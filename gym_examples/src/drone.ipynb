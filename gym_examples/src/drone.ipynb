{
 "cells": [
  {
   "cell_type": "code",
   "execution_count": 1,
   "metadata": {},
   "outputs": [],
   "source": [
    "%load_ext autoreload\n",
    "%autoreload 2\n",
    "import sys\n",
    "sys.path.append(\"..\")\n",
    "#import gymnasium as gym\n",
    "import numpy as np\n",
    "from envs.two_player_dubins_car import TwoPlayerDubinsCarEnv\n",
    "\n",
    "\n",
    "import jax\n",
    "import jax.numpy as jnp\n",
    "import haiku as hk\n",
    "import optax\n",
    "\n",
    "import matplotlib\n",
    "%matplotlib inline\n",
    "import matplotlib.pyplot as plt\n",
    "from matplotlib import cm\n",
    "import numpy as np\n",
    "import pickle \n"
   ]
  },
  {
   "cell_type": "code",
   "execution_count": 2,
   "metadata": {},
   "outputs": [
    {
     "name": "stderr",
     "output_type": "stream",
     "text": [
      "No GPU/TPU found, falling back to CPU. (Set TF_CPP_MIN_LOG_LEVEL=0 and rerun for more info.)\n"
     ]
    }
   ],
   "source": [
    "def policy_network(observation):\n",
    "    net = hk.Sequential([\n",
    "        hk.Linear(100), jax.nn.relu,\n",
    "        hk.Linear(100), jax.nn.relu,\n",
    "        hk.Linear(100), jax.nn.relu,\n",
    "        hk.Linear(100), jax.nn.relu,\n",
    "\n",
    "        hk.Linear(env.num_actions),\n",
    "        jax.nn.softmax\n",
    "    ])\n",
    "    return net(observation)\n",
    "\n",
    "policy_net = hk.without_apply_rng(hk.transform(policy_network))\n",
    "key = jax.random.PRNGKey(42)\n",
    "epsilon = 0.1"
   ]
  },
  {
   "cell_type": "code",
   "execution_count": 3,
   "metadata": {},
   "outputs": [
    {
     "name": "stderr",
     "output_type": "stream",
     "text": [
      "/home/arjun/.local/lib/python3.8/site-packages/gym/spaces/box.py:127: UserWarning: \u001b[33mWARN: Box bound precision lowered by casting to float32\u001b[0m\n",
      "  logger.warn(f\"Box bound precision lowered by casting to {self.dtype}\")\n"
     ]
    },
    {
     "data": {
      "text/plain": [
       "{'attacker': array([2., 2., 0.], dtype=float32),\n",
       " 'defender': array([0., 0., 0.], dtype=float32)}"
      ]
     },
     "execution_count": 3,
     "metadata": {},
     "output_type": "execute_result"
    }
   ],
   "source": [
    "#Load data (deserialize)\n",
    "with open('data/drone/test.pickle', 'rb') as handle:\n",
    "     loaded_params = pickle.load(handle)\n",
    "\n",
    "env = TwoPlayerDubinsCarEnv()\n",
    "env.reset()\n",
    "state = env.state\n",
    "state"
   ]
  },
  {
   "cell_type": "code",
   "execution_count": 12,
   "metadata": {},
   "outputs": [
    {
     "name": "stdout",
     "output_type": "stream",
     "text": [
      "0\n",
      "0\n"
     ]
    }
   ],
   "source": []
  },
  {
   "cell_type": "code",
   "execution_count": 5,
   "metadata": {},
   "outputs": [
    {
     "name": "stdout",
     "output_type": "stream",
     "text": [
      "1\n",
      "0\n",
      "0\n",
      "1\n",
      "0\n",
      "1\n",
      "2\n",
      "0\n",
      "2\n",
      "2\n",
      "0\n",
      "0\n",
      "1\n",
      "0\n",
      "1\n",
      "2\n",
      "0\n",
      "0\n",
      "0\n",
      "1\n",
      "2\n",
      "1\n",
      "0\n",
      "1\n",
      "0\n",
      "0\n",
      "0\n",
      "2\n",
      "2\n",
      "2\n",
      "1\n",
      "1\n",
      "1\n",
      "0\n",
      "2\n",
      "0\n",
      "0\n",
      "0\n",
      "0\n",
      "1\n"
     ]
    }
   ],
   "source": [
    "#\n",
    "\n",
    "\n",
    "timesteps = np.arange(0, 10, 0.1)\n",
    "for t in timesteps:\n",
    "    if t % 0.5 == 0:\n",
    "        prev_state = state\n",
    "        for player in env.players:\n",
    "            key, subkey = jax.random.split(key)\n",
    "            nn_state = env.encode_helper(state)\n",
    "            action = env.select_action_sr(nn_state, loaded_params[player], policy_net,  subkey, epsilon)\n",
    "            state, reward, done, info = env.step(state=state, action=action, player=player, update_env=True)\n",
    "            print(action)\n",
    "        pass\n",
    "\n",
    "    attacker_prev_state = prev_state['attacker'][0:3]\n",
    "    defender_prev_state = prev_state['defender'][0:3]\n",
    "\n",
    "    attacker_state = state['attacker'][0:3]\n",
    "    defender_state = state['defender'][0:3]\n",
    "\n",
    "    lamb = (t % 0.5) * 2 \n",
    "    attacker_pos = lamb * attacker_state + (1 - lamb) * attacker_prev_state  \n",
    "    defender_pos = lamb * defender_state + (1 - lamb) * defender_prev_state\n",
    "\n",
    "\n",
    "    # send position to crazyflie\n",
    "    # wait for 0.1 seconds"
   ]
  },
  {
   "cell_type": "code",
   "execution_count": null,
   "metadata": {},
   "outputs": [],
   "source": []
  }
 ],
 "metadata": {
  "kernelspec": {
   "display_name": ".env",
   "language": "python",
   "name": "python3"
  },
  "language_info": {
   "codemirror_mode": {
    "name": "ipython",
    "version": 3
   },
   "file_extension": ".py",
   "mimetype": "text/x-python",
   "name": "python",
   "nbconvert_exporter": "python",
   "pygments_lexer": "ipython3",
   "version": "3.8.10"
  },
  "orig_nbformat": 4
 },
 "nbformat": 4,
 "nbformat_minor": 2
}

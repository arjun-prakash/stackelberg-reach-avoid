{
 "cells": [
  {
   "cell_type": "code",
   "execution_count": null,
   "metadata": {},
   "outputs": [],
   "source": [
    "%load_ext autoreload\n",
    "%autoreload 2\n",
    "import gym\n",
    "from gym import spaces\n",
    "import numpy as np\n",
    "from gym_examples.envs.dubins_car import DubinsCarEnv\n",
    "\n",
    "\n",
    "import jax\n",
    "import jax.numpy as jnp\n",
    "import haiku as hk\n",
    "import optax"
   ]
  },
  {
   "cell_type": "code",
   "execution_count": null,
   "metadata": {},
   "outputs": [],
   "source": [
    "#generate data\n",
    "\n",
    "env = DubinsCarEnv()\n",
    "state = env.reset()\n",
    "X = []\n",
    "y = []\n",
    "for i in range(200000):\n",
    "    state = env.reset()\n",
    "    for action in range(env.action_space.n):\n",
    "        X.append(state)\n",
    "        r = env.sample(state, action, 0)\n",
    "        y.append(r)\n",
    "\n",
    "X = np.array(X)\n",
    "y = np.array(y)\n",
    "\n"
   ]
  },
  {
   "cell_type": "code",
   "execution_count": null,
   "metadata": {},
   "outputs": [],
   "source": [
    "X_train = X# (X - X.mean())/(X.std())\n",
    "X_train"
   ]
  },
  {
   "cell_type": "code",
   "execution_count": null,
   "metadata": {},
   "outputs": [],
   "source": [
    "import matplotlib\n",
    "%matplotlib inline\n",
    "import matplotlib.pyplot as plt\n",
    "\n",
    "# Plot...\n",
    "plt.scatter(X_train[:,0], X_train[:,1], c=y, s=1) # s is a size of marker \n",
    "plt.jet()\n",
    "plt.colorbar()\n",
    "plt.show()"
   ]
  },
  {
   "cell_type": "code",
   "execution_count": null,
   "metadata": {},
   "outputs": [],
   "source": [
    "print(len(X))\n",
    "print(len(y))"
   ]
  },
  {
   "cell_type": "code",
   "execution_count": null,
   "metadata": {},
   "outputs": [],
   "source": [
    "print(len(X_train))\n",
    "print(y)\n",
    "print(X_train)"
   ]
  },
  {
   "cell_type": "code",
   "execution_count": null,
   "metadata": {},
   "outputs": [],
   "source": [
    "X"
   ]
  },
  {
   "cell_type": "code",
   "execution_count": null,
   "metadata": {},
   "outputs": [],
   "source": [
    "#params are defined *implicitly* in haiku\n",
    "def forward(X):\n",
    "    l1 = hk.Linear(9)(X)\n",
    "    l2 = jax.nn.relu(l1)\n",
    "    l3 = hk.Linear(1)(l2)\n",
    "\n",
    "    return l3.ravel()\n",
    "\n",
    "# def forward(X):\n",
    "\n",
    "#     mlp = hk.nets.MLP(output_sizes=[3,1])\n",
    "#     return mlp(X)\n",
    "\n",
    "# a transformed haiku function consists of an 'init' and an 'apply' function\n",
    "forward = hk.without_apply_rng(hk.transform(forward))\n",
    "\n",
    "\n",
    "\n",
    "# initialize parameters\n",
    "rng = jax.random.PRNGKey(seed=14)\n",
    "params = forward.init(rng, X_train)\n",
    "\n",
    "# redefine 'forward' as the 'apply' function\n",
    "forward = forward.apply\n",
    "\n",
    "\n",
    "def loss_fn(params, X, y):\n",
    "    err = forward(params, X) - y\n",
    "    return jnp.mean(jnp.square(err))  # mse\n",
    "\n",
    "\n",
    "\n",
    "\n",
    "\n",
    "optimizer = optax.adam(learning_rate=1e-2)\n",
    "print(len(X_train))\n",
    "opt_state = optimizer.init(params)\n",
    "for epoch in range(300):\n",
    "    loss, grads = jax.value_and_grad(loss_fn)(params,X=X_train,y=y)\n",
    "    print(\"progress:\", \"epoch:\", epoch, \"loss\",loss)\n",
    "    updates, opt_state = optimizer.update(grads, opt_state, params)\n",
    "    params = optax.apply_updates(params, updates)\n",
    "    \n",
    "# After training\n",
    "print(\"estimation of the parameters:\")\n",
    "print(params)\n",
    "\n",
    "estimate  = forward(X=env.reset(), params=params)\n",
    "print(\"estimate\", estimate)"
   ]
  },
  {
   "cell_type": "code",
   "execution_count": null,
   "metadata": {},
   "outputs": [],
   "source": [
    "test = np.array([-1,1.1,1])\n",
    "estimate  = forward(X=test, params=params)\n",
    "print(\"estimate\", estimate)"
   ]
  },
  {
   "cell_type": "code",
   "execution_count": null,
   "metadata": {},
   "outputs": [],
   "source": [
    "y_preds = [forward(X=x, params=params) for x in X_train[:100]]\n",
    "y_preds"
   ]
  },
  {
   "cell_type": "code",
   "execution_count": null,
   "metadata": {},
   "outputs": [],
   "source": [
    "env = DubinsCarEnv()\n",
    "state = env.reset()\n",
    "done = False\n",
    "max_iter = 100\n",
    "counter = 0\n",
    "while (not done) and (counter < max_iter):\n",
    "    counter+=1\n",
    "    possible_actions = []\n",
    "    for a in range(env.action_space.n):\n",
    "        next_state, reward, done, _ = env.state_action_step(state, a)\n",
    "        estimate = forward(X=next_state, params=params)\n",
    "        print('estimate', estimate, 'actual', reward)\n",
    "        possible_actions.append(estimate[0])\n",
    "        #possible_actions.append(reward)\n",
    "    action = np.argmax(np.array(possible_actions))\n",
    "    print(action, possible_actions )\n",
    "\n",
    "    state, reward, done, _ = env.step(action)\n",
    "    env.render()\n",
    "    print(counter)\n",
    "    \n",
    "env.make_gif()"
   ]
  },
  {
   "cell_type": "code",
   "execution_count": null,
   "metadata": {},
   "outputs": [],
   "source": []
  }
 ],
 "metadata": {
  "kernelspec": {
   "display_name": ".env",
   "language": "python",
   "name": "python3"
  },
  "language_info": {
   "codemirror_mode": {
    "name": "ipython",
    "version": 3
   },
   "file_extension": ".py",
   "mimetype": "text/x-python",
   "name": "python",
   "nbconvert_exporter": "python",
   "pygments_lexer": "ipython3",
   "version": "3.10.6 (main, Nov 14 2022, 16:10:14) [GCC 11.3.0]"
  },
  "orig_nbformat": 4,
  "vscode": {
   "interpreter": {
    "hash": "ef10494435ef64d871412bc82e07bf2ff0dc915cfde3f02db3a5db073241f5af"
   }
  }
 },
 "nbformat": 4,
 "nbformat_minor": 2
}
